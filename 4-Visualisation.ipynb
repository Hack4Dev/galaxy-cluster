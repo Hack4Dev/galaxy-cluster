{
 "cells": [
  {
   "cell_type": "markdown",
   "id": "b1b8b561-a49a-405e-a6d5-9ca11dc1f3b2",
   "metadata": {},
   "source": [
    "# Tutorial 4: Visualisation"
   ]
  },
  {
   "cell_type": "markdown",
   "id": "17dcb8ac-2e95-4894-9ed4-161dd8277bd6",
   "metadata": {},
   "source": [
    "---"
   ]
  },
  {
   "cell_type": "markdown",
   "id": "1ec1a7d3-339d-4f61-abeb-cc067f21e95d",
   "metadata": {},
   "source": [
    "### Introduction"
   ]
  },
  {
   "cell_type": "markdown",
   "id": "a62bfbb7-50cf-429c-9bc5-e6de6be53a3e",
   "metadata": {},
   "source": [
    "Given the high dimensional data for machine learning methods, visualising them in two-dimensional space is impossible, or at least with our current technology. Visualisation is always useful because it can give us an idea of the distribution between the different classes. But we can try to reduce the high-dimensional features into just two feature components. Multiple techniques can be used to perform feature reduction, but the most used is Principle component analysis (PCA).But in this tuturial we will show how to use the following methods:\n",
    "- [PCA](https://scikit-learn.org/stable/modules/generated/sklearn.decomposition.PCA.html)\n",
    "- [T-distributed Stochastic Neighbor Embedding (tSNE)](https://scikit-learn.org/stable/modules/generated/sklearn.manifold.TSNE.html#sklearn.manifold.TSNE)\n",
    "\n",
    "more methods can be found from [here](https://scikit-learn.org/stable/auto_examples/manifold/plot_lle_digits.html#sphx-glr-auto-examples-manifold-plot-lle-digits-py)"
   ]
  },
  {
   "cell_type": "markdown",
   "id": "87860f76-30dc-42b7-b219-76669748a10a",
   "metadata": {},
   "source": [
    "---"
   ]
  },
  {
   "cell_type": "markdown",
   "id": "df444414-e204-4d91-910e-f673cc148d71",
   "metadata": {},
   "source": [
    "First let us call some packges"
   ]
  },
  {
   "cell_type": "code",
   "execution_count": null,
   "id": "b758a0ea-6ef3-4571-846e-42d6535455b6",
   "metadata": {},
   "outputs": [],
   "source": [
    "import pandas as pd\n",
    "import numpy as np\n",
    "import matplotlib.pyplot as plt # for plotting\n",
    "import scipy.stats as st"
   ]
  },
  {
   "cell_type": "markdown",
   "id": "3b4e65c7-8ba8-4029-9312-fd3b7cb8dca5",
   "metadata": {},
   "source": [
    "Next let us recall the data. This tutorial will use the extracted features from the shallow autoencoder model (2nd notebook)."
   ]
  },
  {
   "cell_type": "code",
   "execution_count": null,
   "id": "4c5bddbd-6e64-4d4a-953c-b62d2f12bd74",
   "metadata": {},
   "outputs": [],
   "source": [
    "%store -r auto_df_train \n",
    "%store -r auto_df_test \n",
    "%store -r labels_train\n",
    "%store -r labels_test\n",
    "%store -r classes"
   ]
  },
  {
   "cell_type": "code",
   "execution_count": null,
   "id": "ec896491-c4ee-4d47-ae0c-3166b5defeab",
   "metadata": {},
   "outputs": [],
   "source": [
    "print(auto_df_train.shape)"
   ]
  },
  {
   "cell_type": "markdown",
   "id": "e27ecff3-78a8-44c1-984e-fd7b2abb481f",
   "metadata": {},
   "source": [
    "Drawing 8000 samples from the training data can result in very noisy graphs. Therefore we will need to sample only 1000 from the 8000."
   ]
  },
  {
   "cell_type": "code",
   "execution_count": null,
   "id": "70b30756-f5b0-4262-bf6b-e4285690800e",
   "metadata": {},
   "outputs": [],
   "source": [
    "np.random.seed(0)\n",
    "idx = np.random.choice(auto_df_train.shape[0], 1000)"
   ]
  },
  {
   "cell_type": "markdown",
   "id": "9e206b42-9063-4ba6-a082-645fb224abcb",
   "metadata": {},
   "source": [
    "Now let us try to create a combination between each two features."
   ]
  },
  {
   "cell_type": "code",
   "execution_count": null,
   "id": "694aac4a-1505-49b1-8f52-13f96f6fb772",
   "metadata": {},
   "outputs": [],
   "source": [
    "print(classes)"
   ]
  },
  {
   "cell_type": "code",
   "execution_count": null,
   "id": "9f5f4df4-36cf-47a4-988f-066161f21b08",
   "metadata": {},
   "outputs": [],
   "source": [
    "from itertools import combinations\n",
    "comb_class = list(combinations(classes, 2))\n",
    "print(comb_class)"
   ]
  },
  {
   "cell_type": "markdown",
   "id": "fdf31a89-8720-4f27-82ca-7544539b5428",
   "metadata": {},
   "source": [
    "---"
   ]
  },
  {
   "cell_type": "markdown",
   "id": "a7255076-156f-41fd-b530-cbaf03712f25",
   "metadata": {},
   "source": [
    "### Reduce dimensionality with PCA"
   ]
  },
  {
   "cell_type": "code",
   "execution_count": null,
   "id": "ec65947f-bad1-45be-be8c-4a31adbae2b2",
   "metadata": {},
   "outputs": [],
   "source": [
    "from sklearn.decomposition import PCA"
   ]
  },
  {
   "cell_type": "code",
   "execution_count": null,
   "id": "804f36e1-a1f7-4cd9-a6f0-e98c7751fda5",
   "metadata": {},
   "outputs": [],
   "source": [
    "pca_sample = PCA(n_components=2).fit_transform(np.array(auto_df_train)[idx])\n",
    "print(pca_sample.shape)"
   ]
  },
  {
   "cell_type": "markdown",
   "id": "23776bf5-bac1-4779-82ed-483aed5f53ce",
   "metadata": {},
   "source": [
    "The shape of the reduced PCA sample is now 8000 x 2 from 8000 x 64, now we can plot the reduced samples in a 2D graph"
   ]
  },
  {
   "cell_type": "code",
   "execution_count": null,
   "id": "37eb2290-a263-4f02-ae31-579892feb81d",
   "metadata": {},
   "outputs": [],
   "source": [
    "from source.ellipse import draw_confidence_ellipse\n"
   ]
  },
  {
   "cell_type": "markdown",
   "id": "17834260-bc8d-424b-9b12-2ed301299ad8",
   "metadata": {},
   "source": [
    "We will represent the data using a scatterplot, and will superimpose confidence ellipses to bring out the general orientation and extent of the data. A confidence ellipse shows where the data is most heavily concentrated (i.e. where the probability density is highest). Confidence regions are used for predicting new observations with a certain degree of confidence, which depends on the confidence parameter (measured in standard deviations) used to generate the ellipse.\n",
    "\n",
    "The syntax for the `draw_Confidence_ellipse` command is as follows:\n",
    "\n",
    " draw_Confidence_ellipse (data1_x, data1_y, data2_x, data2_y, \"y-axis label\", \"x-axis label\", \"title\", x-scale, y-scale)\"\n"
   ]
  },
  {
   "cell_type": "code",
   "execution_count": null,
   "id": "96203583-4c01-47e0-90ce-a48b3abe02ea",
   "metadata": {},
   "outputs": [],
   "source": [
    "for cc in comb_class:\n",
    "    class_i = (np.array(labels_train) == classes.index(cc[0]) )[idx] # getting 1000 random samples from the 1st class\n",
    "    class_j = (np.array(labels_train) == classes.index(cc[1]) )[idx] # getting 1000 random samples from the 2nd class\n",
    "    draw_confidence_ellipse (pca_sample[:, 0][class_i], pca_sample[:, 1][class_i], pca_sample[:, 0][class_j], pca_sample[:, 1][class_j], \"comb1\", \"comb2\", cc[0]+\" vs \"+cc[1], (-20,40), (-10,10))"
   ]
  },
  {
   "cell_type": "markdown",
   "id": "f1ce8b05-d74c-440a-bee6-f1333e061974",
   "metadata": {},
   "source": [
    "### Reduce dimensionality with TSNE"
   ]
  },
  {
   "cell_type": "code",
   "execution_count": null,
   "id": "332eaade-1e9d-416b-a50f-085102d37db6",
   "metadata": {},
   "outputs": [],
   "source": [
    "from sklearn.manifold import TSNE"
   ]
  },
  {
   "cell_type": "code",
   "execution_count": null,
   "id": "4e984a44-4603-442d-8ab8-2c32379846ce",
   "metadata": {},
   "outputs": [],
   "source": [
    "tsne_sample = TSNE(n_components=2, init='pca', perplexity=10, learning_rate = 10).fit_transform(np.array(auto_df_train)[idx])"
   ]
  },
  {
   "cell_type": "code",
   "execution_count": null,
   "id": "d7803887-0c92-4594-a879-9ecec19e3f48",
   "metadata": {},
   "outputs": [],
   "source": [
    "for cc in comb_class:\n",
    "    class_i = (np.array(labels_train) == classes.index(cc[0]) )[idx] # we can restrict the number of samples from here\n",
    "    class_j = (np.array(labels_train) == classes.index(cc[1]) )[idx]\n",
    "    draw_confidence_ellipse (tsne_sample[:, 0][class_i], tsne_sample[:, 1][class_i], tsne_sample[:, 0][class_j], tsne_sample[:, 1][class_j], \"comb1\", \"comb2\", cc[0]+\" vs \"+cc[1], (-80,80), (-80,80))"
   ]
  },
  {
   "cell_type": "markdown",
   "id": "77c992fa-f057-4ec9-893a-cf08e53f395d",
   "metadata": {},
   "source": [
    "The graph from both tools shows that it will be tough to distinguish between the `smooth cigar` and `edge_on_desk`. Also, the TSNE method does much better in determining the two classes than the PCA."
   ]
  },
  {
   "cell_type": "markdown",
   "id": "073715f0-9596-4fef-afa1-8ca6f742c895",
   "metadata": {},
   "source": [
    "---"
   ]
  },
  {
   "cell_type": "markdown",
   "id": "0731c334-06ac-45b8-894a-2dd61beb3f27",
   "metadata": {},
   "source": [
    "**Exercise :** from the List we showed [here](https://scikit-learn.org/stable/auto_examples/manifold/plot_lle_digits.html#sphx-glr-auto-examples-manifold-plot-lle-digits-py)\n",
    "choose one more methods and show the distibution between the two classes"
   ]
  },
  {
   "cell_type": "markdown",
   "id": "4b9504c4-65ba-425f-9872-423065f9ecab",
   "metadata": {},
   "source": [
    "---"
   ]
  },
  {
   "cell_type": "markdown",
   "id": "2afa52da-0a10-4050-95ad-d2b7208e025b",
   "metadata": {},
   "source": [
    "### Save the data"
   ]
  },
  {
   "cell_type": "code",
   "execution_count": null,
   "id": "5b515f3a-ecb2-4b82-98a4-4642415c9d2a",
   "metadata": {},
   "outputs": [],
   "source": [
    "%store auto_df_train \n",
    "%store auto_df_test\n",
    "%store pca_sample"
   ]
  },
  {
   "cell_type": "markdown",
   "id": "67d217c9-cfc6-42e0-83d8-4e74c5932726",
   "metadata": {},
   "source": [
    "---"
   ]
  },
  {
   "cell_type": "markdown",
   "id": "52ab3c07-376c-4bdf-a06b-9a062892987c",
   "metadata": {},
   "source": [
    "Note, this tutorial is inspired by this work [here](https://spacetelescope.github.io/hellouniverse/notebooks/hello-universe/Classifying_PanSTARRS_sources_with_unsupervised_learning/Classifying_PanSTARRS_sources_with_unsupervised_learning.html)"
   ]
  }
 ],
 "metadata": {
  "kernelspec": {
   "display_name": "hackathon",
   "language": "python",
   "name": "python3"
  },
  "language_info": {
   "codemirror_mode": {
    "name": "ipython",
    "version": 3
   },
   "file_extension": ".py",
   "mimetype": "text/x-python",
   "name": "python",
   "nbconvert_exporter": "python",
   "pygments_lexer": "ipython3",
   "version": "3.9.15 (main, Nov 24 2022, 14:31:59) \n[GCC 11.2.0]"
  },
  "vscode": {
   "interpreter": {
    "hash": "7dc42d555f8d6ccc45f2d0db721963f431be3c70e5a851dbe8ed2ba253c6da66"
   }
  }
 },
 "nbformat": 4,
 "nbformat_minor": 5
}
