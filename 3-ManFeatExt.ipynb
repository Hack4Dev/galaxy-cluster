{
 "cells": [
  {
   "cell_type": "markdown",
   "id": "7cd3a024-5f12-47ce-8511-c2bfae262628",
   "metadata": {},
   "source": [
    "# Tutorial 3: Manual Feature Extraction/Engineering"
   ]
  },
  {
   "cell_type": "markdown",
   "id": "ed665b16-22c8-4a4d-b4db-0837264fb837",
   "metadata": {},
   "source": [
    "---"
   ]
  },
  {
   "cell_type": "markdown",
   "id": "58a99b7c-2540-4862-bcca-315eeb1c0803",
   "metadata": {},
   "source": [
    "### Introduction"
   ]
  },
  {
   "cell_type": "markdown",
   "id": "21e5412c-eb3a-416a-81ff-ce5f77a0df88",
   "metadata": {},
   "source": [
    "In this notebook, we will extract/engineer features traditional statisitcal methods, suggested methods:\n",
    "- Discrete Lablacian\n",
    "- gaussian_gradient_magnitude\n",
    "- generic_gradient_magnitude\n",
    "\n",
    "@@@ do we need the three of them, also I wont do the fourier transform, it will take time."
   ]
  },
  {
   "cell_type": "markdown",
   "id": "8030153b-d68e-4f25-8774-4b9e4bb5bfef",
   "metadata": {},
   "source": [
    "First we import some libraries:"
   ]
  },
  {
   "cell_type": "code",
   "execution_count": null,
   "id": "fe9d5526-086d-4d0e-b546-e81af265749a",
   "metadata": {},
   "outputs": [],
   "source": [
    "import matplotlib.pyplot as plt # for plotting data/graphs\n",
    "import numpy as np # For handling N-DIMENSIONAL ARRAYS\n",
    "import pandas as pd # for importing data into data frame format\n",
    "\n",
    "from scipy import ndimage, misc # ndimage: contains various functions for multidimensional image processing\n",
    "                               # misc: Various utilities that don’t have another home.\n",
    "import matplotlib.pyplot as plt # to draw images\n"
   ]
  },
  {
   "cell_type": "markdown",
   "id": "20c7b065-2cd2-4d88-8329-a7b0e9591e1a",
   "metadata": {},
   "source": [
    "---"
   ]
  },
  {
   "cell_type": "markdown",
   "id": "7c7a52a2-6542-4535-9aad-0782ed0eb4a4",
   "metadata": {},
   "source": [
    "### Reading in data"
   ]
  },
  {
   "cell_type": "code",
   "execution_count": null,
   "id": "700ba1a6-c0cd-4bb9-ae83-74143f138397",
   "metadata": {},
   "outputs": [],
   "source": [
    "from galaxy_mnist import GalaxyMNISTHighrez\n",
    "\n",
    "dataset_train = GalaxyMNISTHighrez(\n",
    "    root='data_import/data',\n",
    "    download=True,\n",
    "    train=True  # by default, or False for canonical test set\n",
    ")\n",
    "# for the testing data\n",
    "dataset_test = GalaxyMNISTHighrez(\n",
    "    root='data_import/data',\n",
    "    download=True,\n",
    "    train=False  # by default, or False for canonical test set\n",
    ")"
   ]
  },
  {
   "cell_type": "code",
   "execution_count": null,
   "id": "c4639a4d-6649-48e5-8fec-47d8026828fa",
   "metadata": {},
   "outputs": [],
   "source": [
    "images_train = dataset_train.data\n",
    "images_test = dataset_test.data\n",
    "labels_train = dataset_train.targets\n",
    "labels_test = dataset_test.targets\n"
   ]
  },
  {
   "cell_type": "markdown",
   "id": "a153a956-dcbf-4860-8a92-040e189d5b97",
   "metadata": {},
   "source": [
    "---"
   ]
  },
  {
   "cell_type": "markdown",
   "id": "55f4d509-8977-4f8d-a158-8a0bfc75db0b",
   "metadata": {},
   "source": [
    "### Pre-processing "
   ]
  },
  {
   "cell_type": "code",
   "execution_count": null,
   "id": "f6decf49-9a17-43b2-b659-6a429440326b",
   "metadata": {},
   "outputs": [],
   "source": [
    "from source.pre import pre_processing #  A predefined function to pre-process the data as we did in tutorial 1"
   ]
  },
  {
   "cell_type": "code",
   "execution_count": null,
   "id": "b2b9da92-41d1-41b7-a888-593598261aed",
   "metadata": {},
   "outputs": [],
   "source": [
    "# pre-processing(data, size) function takes two arguments\n",
    "# 1. data: the data to be processed\n",
    "# 2. The size for which the data needs to be reduced.\n",
    "images_trainPre = pre_processing(images_train, 112)\n",
    "images_testPre = pre_processing(images_test, 112)"
   ]
  },
  {
   "cell_type": "code",
   "execution_count": null,
   "id": "887d6bae-5885-4ce3-83d7-74dbdaeb8b34",
   "metadata": {},
   "outputs": [],
   "source": [
    "images_trainPre.shape"
   ]
  },
  {
   "cell_type": "markdown",
   "id": "ba698cf5-b955-43a1-8dcd-e97f4088e2de",
   "metadata": {},
   "source": [
    "Displaying images after pre-processing"
   ]
  },
  {
   "cell_type": "code",
   "execution_count": null,
   "id": "8bb62536-7817-4f05-9110-263a0f57da10",
   "metadata": {
    "tags": []
   },
   "outputs": [],
   "source": [
    "rows = 1\n",
    "columns = 5\n",
    "for j in range(len(GalaxyMNISTHighrez.classes)):\n",
    "    fig = plt.figure(figsize=(8, 8))# Figure is 8 inches by 8 inches\n",
    "    for i in range (columns):    # Create images in each column\n",
    "        train_image = images_trainPre[(labels_train == j)][i]\n",
    "        fig.add_subplot(rows, columns, i+1)\n",
    "        plt.imshow(train_image*255,cmap='gray', vmin=0, vmax=255) \n",
    "                            # we have to multiply the image by 255 to restore the original values\n",
    "    print(\"label: \"+str(GalaxyMNISTHighrez.classes[j]))\n",
    "    plt.tight_layout()\n",
    "    plt.show() "
   ]
  },
  {
   "cell_type": "markdown",
   "id": "7444a5c0-dd53-49df-bcd0-fa56e2f874d3",
   "metadata": {},
   "source": [
    "---"
   ]
  },
  {
   "cell_type": "markdown",
   "id": "12cd1b55-87ec-4794-925a-c9bcf919c35f",
   "metadata": {},
   "source": [
    "### Feature Engineering\n",
    "\n",
    "In this section, we will try to use manual tools to engineer the images. The aim is to highlight features in the images that can be detected easily by classical machine learning tools. Notice that this step is being done automatically in deep learning tools.\n",
    "more can be found [here](https://docs.scipy.org/doc/scipy/reference/ndimage.html)"
   ]
  },
  {
   "cell_type": "markdown",
   "id": "ccc59a2f-14d3-47db-90d0-65454e41db44",
   "metadata": {},
   "source": [
    "#### [laplace](https://docs.scipy.org/doc/scipy/reference/generated/scipy.ndimage.laplace.html)\n",
    "\n",
    " @@ I need to add a video for laplace here, also is there a better way to code this, having two sepeate for loops for the before and after\n",
    " maybe I can do this as an exercise"
   ]
  },
  {
   "cell_type": "code",
   "execution_count": null,
   "id": "91913044-6f3c-475f-8fc8-c6ce791b5488",
   "metadata": {
    "tags": []
   },
   "outputs": [],
   "source": [
    "rows = 1\n",
    "columns = 5\n",
    "for j in range(len(GalaxyMNISTHighrez.classes)):\n",
    "    fig = plt.figure(figsize=(8, 8))# Figure is 8 inches by 8 inches\n",
    "    for i in range (columns):    # Create images in each column\n",
    "        train_image = images_trainPre[(labels_train == j)][i]\n",
    "        fig.add_subplot(rows, columns, i+1)\n",
    "        plt.imshow(train_image*255,cmap='gray', vmin=0, vmax=255) \n",
    "                            # we have to multiply the image by 255 to restore the original values\n",
    "    print(\"Original: \"+str(GalaxyMNISTHighrez.classes[j]))\n",
    "    plt.tight_layout()\n",
    "    plt.show() \n",
    "    \n",
    "    fig = plt.figure(figsize=(8, 8))# Figure is 8 inches by 8 inches\n",
    "    for i in range (columns):    # Create images in each column\n",
    "        pre_image = ndimage.laplace(images_trainPre[(labels_train == j)][i] ,mode = 'nearest'  )*255*200 # can we highlight the difference better than this\n",
    "        fig.add_subplot(rows, columns, i+1)\n",
    "        plt.imshow(pre_image,cmap='gray', vmin=0, vmax=255) \n",
    "                            # we have to multiply the image by 255 to restore the original values\n",
    "    print(\"pre_image: \"+str(GalaxyMNISTHighrez.classes[j]))\n",
    "    plt.tight_layout()\n",
    "    plt.show() \n",
    "    print(\"        ______________________________________________________________________________     \")\n",
    "    "
   ]
  },
  {
   "cell_type": "markdown",
   "id": "32b4f917-7575-42c7-8744-c13c0f4713ee",
   "metadata": {},
   "source": [
    "---"
   ]
  },
  {
   "cell_type": "markdown",
   "id": "a5464317-b2c5-4540-92cc-37607fea322e",
   "metadata": {},
   "source": [
    "#### [gaussian_gradient_magnitude](https://docs.scipy.org/doc/scipy/reference/generated/scipy.ndimage.gaussian_gradient_magnitude.html#scipy.ndimage.gaussian_gradient_magnitude)\n",
    "\n",
    "This method works well when it quickly goes from very bright to dark."
   ]
  },
  {
   "cell_type": "code",
   "execution_count": null,
   "id": "8c22ea32-8064-4faf-9208-d0bd34c87d7f",
   "metadata": {
    "tags": []
   },
   "outputs": [],
   "source": [
    "ows = 1\n",
    "columns = 5\n",
    "for j in range(len(GalaxyMNISTHighrez.classes)):\n",
    "    fig = plt.figure(figsize=(8, 8))# Figure is 8 inches by 8 inches\n",
    "    for i in range (columns):    # Create images in each column\n",
    "        train_image = images_trainPre[(labels_train == j)][i]\n",
    "        fig.add_subplot(rows, columns, i+1)\n",
    "        plt.imshow(train_image*255,cmap='gray', vmin=0, vmax=255) \n",
    "                            # we have to multiply the image by 255 to restore the original values\n",
    "    print(\"Original: \"+str(GalaxyMNISTHighrez.classes[j]))\n",
    "    plt.tight_layout()\n",
    "    plt.show() \n",
    "    \n",
    "    fig = plt.figure(figsize=(8, 8))# Figure is 8 inches by 8 inches\n",
    "    for i in range (columns):    # Create images in each column\n",
    "        pre_image = ndimage.gaussian_gradient_magnitude(images_trainPre[(labels_train == j)][i], sigma=1, mode = 'reflect'  )*255+150\n",
    "        fig.add_subplot(rows, columns, i+1)\n",
    "        plt.imshow(pre_image,cmap='gray', vmin=0, vmax=255) \n",
    "                            # we have to multiply the image by 255 to restore the original values\n",
    "    print(\"pre_image: \"+str(GalaxyMNISTHighrez.classes[j]))\n",
    "    plt.tight_layout()\n",
    "    plt.show() \n",
    "    print(\"                       ______________________________________________________________________________     \")"
   ]
  },
  {
   "cell_type": "markdown",
   "id": "67d4d22a-a745-401c-8e1d-ad31c36d9961",
   "metadata": {},
   "source": [
    "---"
   ]
  },
  {
   "cell_type": "markdown",
   "id": "428e4168-cabf-4b4f-997a-3096c06d3e1f",
   "metadata": {},
   "source": [
    "#### [generic_gradient_magnitude](https://docs.scipy.org/doc/scipy/reference/generated/scipy.ndimage.generic_gradient_magnitude.html)"
   ]
  },
  {
   "cell_type": "code",
   "execution_count": null,
   "id": "ed806f4a-f924-4d35-a4ad-a333c88087f6",
   "metadata": {},
   "outputs": [],
   "source": [
    "ows = 1\n",
    "columns = 5\n",
    "for j in range(len(GalaxyMNISTHighrez.classes)):\n",
    "    fig = plt.figure(figsize=(8, 8))# Figure is 8 inches by 8 inches\n",
    "    for i in range (columns):    # Create images in each column\n",
    "        train_image = images_trainPre[(labels_train == j)][i]\n",
    "        fig.add_subplot(rows, columns, i+1)\n",
    "        plt.imshow(train_image*255,cmap='gray', vmin=0, vmax=255) \n",
    "                            # we have to multiply the image by 255 to restore the original values\n",
    "    print(\"Original: \"+str(GalaxyMNISTHighrez.classes[j]))\n",
    "    plt.tight_layout()\n",
    "    plt.show() \n",
    "    \n",
    "    fig = plt.figure(figsize=(8, 8))# Figure is 8 inches by 8 inches\n",
    "    for i in range (columns):    # Create images in each column\n",
    "        pre_image = ndimage.generic_gradient_magnitude(images_trainPre[(labels_train == j)][i], ndimage.sobel)*255+15\n",
    "        fig.add_subplot(rows, columns, i+1)\n",
    "        plt.imshow(pre_image,cmap='gray', vmin=0, vmax=255) \n",
    "                            # we have to multiply the image by 255 to restore the original values\n",
    "    print(\"pre_image: \"+str(GalaxyMNISTHighrez.classes[j]))\n",
    "    plt.tight_layout()\n",
    "    plt.show() \n",
    "    print(\"     ______________________________________________________________________________     \")\n",
    "    "
   ]
  },
  {
   "cell_type": "markdown",
   "id": "db0fad9d-9da3-454b-9187-201f8c1b55f9",
   "metadata": {},
   "source": [
    "---"
   ]
  },
  {
   "cell_type": "markdown",
   "id": "ca031aad-2a6d-42a2-bc71-ce97eabd391c",
   "metadata": {},
   "source": [
    "#### **_Save the data that you think will give the best performance_**"
   ]
  },
  {
   "cell_type": "code",
   "execution_count": null,
   "id": "c80fb440-3e58-4562-adc3-41e001c18acc",
   "metadata": {},
   "outputs": [],
   "source": []
  }
 ],
 "metadata": {
  "kernelspec": {
   "display_name": "hackathon",
   "language": "python",
   "name": "python3"
  },
  "language_info": {
   "codemirror_mode": {
    "name": "ipython",
    "version": 3
   },
   "file_extension": ".py",
   "mimetype": "text/x-python",
   "name": "python",
   "nbconvert_exporter": "python",
   "pygments_lexer": "ipython3",
   "version": "3.9.15"
  },
  "vscode": {
   "interpreter": {
    "hash": "7dc42d555f8d6ccc45f2d0db721963f431be3c70e5a851dbe8ed2ba253c6da66"
   }
  }
 },
 "nbformat": 4,
 "nbformat_minor": 5
}
