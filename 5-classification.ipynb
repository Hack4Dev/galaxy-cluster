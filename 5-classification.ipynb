{
 "cells": [
  {
   "cell_type": "markdown",
   "id": "8095f449-a104-435d-b1ba-807d21df3073",
   "metadata": {},
   "source": [
    "# Tutorial 5: Classification"
   ]
  },
  {
   "cell_type": "markdown",
   "id": "fb5b0a79-ef75-4a5c-ac92-2ac6fbc97faf",
   "metadata": {},
   "source": [
    "---"
   ]
  },
  {
   "cell_type": "markdown",
   "id": "d58f0eaa-00f4-4e2f-84a1-1c272d86e202",
   "metadata": {},
   "source": [
    "### Introduction"
   ]
  },
  {
   "cell_type": "markdown",
   "id": "dbf23a70-dacb-4d5b-b900-f9f97c5ad1c7",
   "metadata": {},
   "source": [
    "In this notebook, we will try to classify the galaxy classes using two different ways:\n",
    "   1. Unsupervised learning\n",
    "   2. Supervised learning"
   ]
  },
  {
   "cell_type": "code",
   "execution_count": null,
   "id": "ea84abd5-e8e5-4e21-a4a0-f34ad3de4c21",
   "metadata": {},
   "outputs": [],
   "source": [
    "import numpy as np\n",
    "import pandas as pd\n",
    "from sklearn.metrics import precision_recall_fscore_support"
   ]
  },
  {
   "cell_type": "markdown",
   "id": "3e239782-9664-4a7d-a6c1-908deabdb279",
   "metadata": {},
   "source": [
    "---"
   ]
  },
  {
   "cell_type": "markdown",
   "id": "7abf5d7e-18f4-4043-ae1d-6ae891c2f0b4",
   "metadata": {},
   "source": [
    "### Unsupervised Learning"
   ]
  },
  {
   "cell_type": "markdown",
   "id": "5f6a3a0a-d55e-4012-884c-f37edeb2e678",
   "metadata": {},
   "source": [
    "In this step, we will use `kmeans` for clustering between the different galaxies. `kmeans` is a popular unsupervised learning method. Other unsupervised learning methods can be found [here](https://scikit-learn.org/stable/modules/clustering.html)."
   ]
  },
  {
   "cell_type": "markdown",
   "id": "935b7600-5d9e-4439-95c9-b9a4f0f82d99",
   "metadata": {},
   "source": [
    "Next let us recall the data, in this step we will use the "
   ]
  },
  {
   "cell_type": "code",
   "execution_count": null,
   "id": "560601af-8372-48b3-9b42-8d2e3ef88db9",
   "metadata": {},
   "outputs": [],
   "source": [
    "%store -r auto_df_train \n",
    "%store -r auto_df_test\n",
    "%store -r labels_train\n",
    "%store -r labels_test\n",
    "%store -r classes"
   ]
  },
  {
   "cell_type": "code",
   "execution_count": null,
   "id": "a3a4ddf1-de57-4688-b398-cf514be85b5b",
   "metadata": {},
   "outputs": [],
   "source": [
    "from sklearn.cluster import KMeans"
   ]
  },
  {
   "cell_type": "code",
   "execution_count": null,
   "id": "68c492cf-1908-4e36-9d7f-232b675e8ac4",
   "metadata": {},
   "outputs": [],
   "source": [
    "kmeans = KMeans(init=\"k-means++\", n_clusters=4)\n",
    "kmeans.fit(auto_df_train)\n",
    "pred_cluster = kmeans.predict(auto_df_test)"
   ]
  },
  {
   "cell_type": "markdown",
   "id": "b7545a5e-5902-4b82-aca2-008a41041ecb",
   "metadata": {},
   "source": [
    "Now let us check the clustring results"
   ]
  },
  {
   "cell_type": "code",
   "execution_count": null,
   "id": "1eeb1bc3-cfed-4260-8129-d8038b11e754",
   "metadata": {},
   "outputs": [],
   "source": [
    "from source.clustering import plot_confusion_matrix"
   ]
  },
  {
   "cell_type": "code",
   "execution_count": null,
   "id": "9e1305ab-83cc-45a2-b81d-2d69dab93fb4",
   "metadata": {},
   "outputs": [],
   "source": [
    "plot_confusion_matrix(pred_cluster, auto_df_test, labels_test, classes)"
   ]
  },
  {
   "cell_type": "markdown",
   "id": "3396d2b7-d5ff-48ef-9ee7-cccc1bf450b6",
   "metadata": {},
   "source": [
    "Since the data we have is labelled, we can use standard classification accuracies to measure the performance of the `kmeans` model. But For clustering, there is no association provided by the clustering algorithm between the class labels and the predicted cluster labels [ref](https://smorbieu.gitlab.io/accuracy-from-classification-to-clustering-evaluation/). We, therefore, need to assign/match the class ground truth to the predicted clusters to get the maximum accuracy. @@ will need help here (check Ezra's paper)."
   ]
  },
  {
   "cell_type": "code",
   "execution_count": null,
   "id": "491bd90c-07d5-474e-a876-d9ed4776d647",
   "metadata": {},
   "outputs": [],
   "source": [
    "from source.clustering import labelMap, convertLabels"
   ]
  },
  {
   "cell_type": "code",
   "execution_count": null,
   "id": "6c2138d1-abfb-4223-a1d2-7b0b3b61b852",
   "metadata": {},
   "outputs": [],
   "source": [
    "lmap = labelMap(np.array(labels_test), pred_cluster)\n",
    "print(lmap)\n",
    "conv_preds_cluster = convertLabels(np.array(lmap), np.array(pred_cluster))"
   ]
  },
  {
   "cell_type": "code",
   "execution_count": null,
   "id": "482e7917-2c25-498b-b56d-1d84e42b7dc6",
   "metadata": {},
   "outputs": [],
   "source": [
    "plot_confusion_matrix(conv_preds_cluster, auto_df_test, labels_test, classes)"
   ]
  },
  {
   "cell_type": "code",
   "execution_count": null,
   "id": "9d0e13a6-f7ed-4d6d-8ffb-f15ad635f4dd",
   "metadata": {},
   "outputs": [],
   "source": [
    "print(precision_recall_fscore_support(y_pred=conv_preds_cluster, y_true=labels_test, average='weighted'))"
   ]
  },
  {
   "cell_type": "markdown",
   "id": "2894dce7-029d-46f6-94a0-9f1ed7b61409",
   "metadata": {},
   "source": [
    "---"
   ]
  },
  {
   "cell_type": "markdown",
   "id": "dc2b0085-99be-4187-a9f8-ead81dd0030e",
   "metadata": {},
   "source": [
    "### Supervised learning"
   ]
  },
  {
   "cell_type": "code",
   "execution_count": null,
   "id": "46ed4f82-c729-4aa2-a10f-762dcc8576f6",
   "metadata": {},
   "outputs": [],
   "source": [
    "from sklearn.linear_model import SGDClassifier"
   ]
  },
  {
   "cell_type": "code",
   "execution_count": null,
   "id": "e46237e7-8012-4655-a0ee-bdb84481f545",
   "metadata": {},
   "outputs": [],
   "source": [
    "sgd = SGDClassifier()\n",
    "\n",
    "sgd.fit(auto_df_train, labels_train)"
   ]
  },
  {
   "cell_type": "code",
   "execution_count": null,
   "id": "9610477a-75a6-4fd4-872a-16559b5c0023",
   "metadata": {},
   "outputs": [],
   "source": [
    "y_predict = sgd.predict(auto_df_test)\n",
    "\n",
    "plot_confusion_matrix(y_predict, auto_df_test, labels_test, classes)\n"
   ]
  },
  {
   "cell_type": "code",
   "execution_count": null,
   "id": "9c8660b5-8d39-4829-b610-f66a0a98b509",
   "metadata": {},
   "outputs": [],
   "source": [
    "print(precision_recall_fscore_support(y_pred=y_predict, y_true=labels_test, average='weighted'))"
   ]
  },
  {
   "cell_type": "markdown",
   "id": "649f7b39-8b38-49e3-b381-d966c223c9e8",
   "metadata": {},
   "source": [
    "we notice that we do get better results than the unspervised learning"
   ]
  },
  {
   "cell_type": "markdown",
   "id": "a6e13291-b1a9-4481-b302-0ba7a646766c",
   "metadata": {},
   "source": [
    "---"
   ]
  },
  {
   "cell_type": "code",
   "execution_count": null,
   "id": "3037fa46-d522-4545-8f40-9d97f59ba9d6",
   "metadata": {},
   "outputs": [],
   "source": []
  }
 ],
 "metadata": {
  "kernelspec": {
   "display_name": "hackathon",
   "language": "python",
   "name": "python3"
  },
  "language_info": {
   "codemirror_mode": {
    "name": "ipython",
    "version": 3
   },
   "file_extension": ".py",
   "mimetype": "text/x-python",
   "name": "python",
   "nbconvert_exporter": "python",
   "pygments_lexer": "ipython3",
   "version": "3.9.15"
  },
  "vscode": {
   "interpreter": {
    "hash": "7dc42d555f8d6ccc45f2d0db721963f431be3c70e5a851dbe8ed2ba253c6da66"
   }
  }
 },
 "nbformat": 4,
 "nbformat_minor": 5
}
