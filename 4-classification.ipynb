{
 "cells": [
  {
   "cell_type": "markdown",
   "id": "dbf23a70-dacb-4d5b-b900-f9f97c5ad1c7",
   "metadata": {},
   "source": [
    "Okay, in this notebook we will try to classify between the galaxy classes using two diffrint ways:\n",
    "   1. Unsupervised learning\n",
    "   2. Supervised learning"
   ]
  },
  {
   "cell_type": "code",
   "execution_count": 1,
   "id": "ea84abd5-e8e5-4e21-a4a0-f34ad3de4c21",
   "metadata": {},
   "outputs": [],
   "source": [
    "from sklearn.cluster import KMeans\n",
    "from sklearn.linear_model import SGDClassifier\n",
    "from sklearn.metrics import confusion_matrix\n",
    "from sklearn import metrics\n",
    "import numpy as np\n",
    "import matplotlib.pyplot as plt # for plotting\n",
    "from sklearn.decomposition import PCA\n",
    "import scipy.stats as st\n",
    "import pandas as pd"
   ]
  },
  {
   "cell_type": "markdown",
   "id": "3d4bb8ea-623e-4227-a3a7-9724925bce54",
   "metadata": {},
   "source": [
    "### Call the data"
   ]
  },
  {
   "cell_type": "code",
   "execution_count": 2,
   "id": "560601af-8372-48b3-9b42-8d2e3ef88db9",
   "metadata": {},
   "outputs": [],
   "source": [
    "%store -r auto_df_train \n",
    "%store -r auto_df_test\n",
    "%store -r labels_train\n",
    "%store -r labels_test\n",
    "%store -r classes\n",
    "%store -r pca_sample"
   ]
  },
  {
   "cell_type": "markdown",
   "id": "3e239782-9664-4a7d-a6c1-908deabdb279",
   "metadata": {},
   "source": [
    "---"
   ]
  },
  {
   "cell_type": "markdown",
   "id": "7abf5d7e-18f4-4043-ae1d-6ae891c2f0b4",
   "metadata": {},
   "source": [
    "### Unsupervised Learning"
   ]
  },
  {
   "cell_type": "markdown",
   "id": "f66805ee-d942-4230-8dda-3ec938f9a89f",
   "metadata": {},
   "source": [
    "Now we need to find a way to"
   ]
  },
  {
   "cell_type": "markdown",
   "id": "7ccc0c59-4db3-471b-86f7-36e2e3ae8e1b",
   "metadata": {},
   "source": [
    "fix the mattching clustring."
   ]
  },
  {
   "cell_type": "code",
   "execution_count": 3,
   "id": "8d133c95-bb01-4fd1-9455-abe7a8f991c4",
   "metadata": {},
   "outputs": [],
   "source": [
    "from sklearn.metrics import confusion_matrix, precision_recall_fscore_support\n",
    "from scipy.optimize import linear_sum_assignment as linear_assignment"
   ]
  },
  {
   "cell_type": "code",
   "execution_count": 11,
   "id": "d4a901f4-3603-48cc-8a92-7f5c5ce14e1d",
   "metadata": {},
   "outputs": [],
   "source": [
    "def _make_cost_m(cm):\n",
    "    s = np.max(cm)\n",
    "    return (- cm + s)\n",
    "\n",
    "def labelMap(vol, pred):\n",
    "    cm = confusion_matrix(vol, pred)\n",
    "    indexes = linear_assignment(_make_cost_m(cm))\n",
    "    indexes = np.asarray(indexes)\n",
    "    print(indexes)\n",
    "    return indexes[1]\n",
    "    \n",
    "def convertLabels(lmap, pred):\n",
    "    conv_preds = []\n",
    "    for i in range(len(pred)):\n",
    "        conv_preds.append(lmap[pred[i]])\n",
    "    return np.array(conv_preds)"
   ]
  },
  {
   "cell_type": "code",
   "execution_count": 12,
   "id": "68c492cf-1908-4e36-9d7f-232b675e8ac4",
   "metadata": {},
   "outputs": [],
   "source": [
    "kmeans = KMeans(init=\"k-means++\", n_clusters=4)\n",
    "kmeans.fit(auto_df_train)\n",
    "pred = kmeans.predict(auto_df_test)"
   ]
  },
  {
   "cell_type": "code",
   "execution_count": 18,
   "id": "ca906f81-2363-48aa-bceb-c767599f23ef",
   "metadata": {},
   "outputs": [],
   "source": [
    "colors = ['dodgerblue', 'orange', 'limegreen', 'magenta']\n"
   ]
  },
  {
   "cell_type": "code",
   "execution_count": 20,
   "id": "65febc1c-ce38-49c2-bb30-487e548e0ec8",
   "metadata": {},
   "outputs": [
    {
     "name": "stdout",
     "output_type": "stream",
     "text": [
      "[[0 1 2 3]\n",
      " [3 1 0 2]]\n",
      "(0.2445, 0.2445, 0.2445, None)\n",
      "[[  0   0   0 532]\n",
      " [  0 489   0   0]\n",
      " [845   0   0   0]\n",
      " [  0   0 134   0]]\n",
      "--------------------------------------------------------------\n",
      "[[0 1 2 3]\n",
      " [3 2 0 1]]\n",
      "(0.0, 0.0, 0.0, None)\n",
      "[[  0   0   0 534]\n",
      " [  0   0 843   0]\n",
      " [489   0   0   0]\n",
      " [  0 134   0   0]]\n",
      "--------------------------------------------------------------\n",
      "[[0 1 2 3]\n",
      " [1 0 2 3]]\n",
      "(0.688, 0.688, 0.688, None)\n",
      "[[  0 489   0   0]\n",
      " [135   0   0   0]\n",
      " [  0   0 534   0]\n",
      " [  0   0   0 842]]\n",
      "--------------------------------------------------------------\n",
      "[[0 1 2 3]\n",
      " [2 3 0 1]]\n",
      "(0.0, 0.0, 0.0, None)\n",
      "[[  0   0 533   0]\n",
      " [  0   0   0 843]\n",
      " [135   0   0   0]\n",
      " [  0 489   0   0]]\n",
      "--------------------------------------------------------------\n",
      "[[0 1 2 3]\n",
      " [2 0 1 3]]\n",
      "(0.4225, 0.4225, 0.4225, None)\n",
      "[[  0   0 489   0]\n",
      " [532   0   0   0]\n",
      " [  0 134   0   0]\n",
      " [  0   0   0 845]]\n",
      "--------------------------------------------------------------\n",
      "[[0 1 2 3]\n",
      " [3 2 1 0]]\n",
      "(0.0, 0.0, 0.0, None)\n",
      "[[  0   0   0 842]\n",
      " [  0   0 534   0]\n",
      " [  0 489   0   0]\n",
      " [135   0   0   0]]\n",
      "--------------------------------------------------------------\n",
      "[[0 1 2 3]\n",
      " [3 0 1 2]]\n",
      "(0.0, 0.0, 0.0, None)\n",
      "[[  0   0   0 489]\n",
      " [532   0   0   0]\n",
      " [  0 845   0   0]\n",
      " [  0   0 134   0]]\n",
      "--------------------------------------------------------------\n",
      "[[0 1 2 3]\n",
      " [0 2 1 3]]\n",
      "(0.489, 0.489, 0.489, None)\n",
      "[[135   0   0   0]\n",
      " [  0   0 533   0]\n",
      " [  0 489   0   0]\n",
      " [  0   0   0 843]]\n",
      "--------------------------------------------------------------\n",
      "[[0 1 2 3]\n",
      " [0 1 2 3]]\n",
      "(1.0, 1.0, 1.0, None)\n",
      "[[135   0   0   0]\n",
      " [  0 489   0   0]\n",
      " [  0   0 533   0]\n",
      " [  0   0   0 843]]\n",
      "--------------------------------------------------------------\n",
      "[[0 1 2 3]\n",
      " [2 1 0 3]]\n",
      "(0.667, 0.667, 0.667, None)\n",
      "[[  0   0 532   0]\n",
      " [  0 489   0   0]\n",
      " [134   0   0   0]\n",
      " [  0   0   0 845]]\n",
      "--------------------------------------------------------------\n"
     ]
    }
   ],
   "source": [
    "for seed in [6589,4598,2489,9434,7984,1238,6468,5165,3246,8646]:\n",
    "    kmeans = KMeans(init=\"k-means++\", n_clusters=4, random_state=seed)\n",
    "    kmeans.fit(auto_df_train)\n",
    "    pred = kmeans.predict(auto_df_test)\n",
    "    total_report = {}\n",
    "    lmap = labelMap(np.array(labels_test), pred)\n",
    "    conv_preds = convertLabels(lmap, pred)\n",
    "    question_report = precision_recall_fscore_support(y_pred=conv_preds, y_true=pred, average='weighted')\n",
    "    cm = confusion_matrix(y_pred=conv_preds, y_true=pred)\n",
    "\n",
    "    print(question_report)\n",
    "    print(cm)\n",
    "    total_report[\"precision\"] = question_report[0]\n",
    "    total_report['recall'] = question_report[1]\n",
    "    total_report['f1'] = question_report[2]\n",
    "\n",
    "\n",
    "\n",
    "    print('--------------------------------------------------------------')\n"
   ]
  },
  {
   "cell_type": "code",
   "execution_count": 14,
   "id": "a1da0706-9bd0-489e-ab95-658601a426cc",
   "metadata": {},
   "outputs": [],
   "source": [
    "report_df = pd.DataFrame.from_dict(total_report, orient='index')\n"
   ]
  },
  {
   "cell_type": "code",
   "execution_count": 8,
   "id": "937b56d3-0691-4988-98f5-37211e636d5a",
   "metadata": {},
   "outputs": [
    {
     "data": {
      "text/plain": [
       "<bound method NDFrame.head of                0\n",
       "precision  0.667\n",
       "recall     0.667\n",
       "f1         0.667>"
      ]
     },
     "execution_count": 8,
     "metadata": {},
     "output_type": "execute_result"
    }
   ],
   "source": [
    "report_df.head"
   ]
  },
  {
   "cell_type": "markdown",
   "id": "431c22b6-cfd8-4773-b980-108783e1d235",
   "metadata": {},
   "source": [
    "Like, are those results are even normal??\n",
    "the variations are just too big, and also (can't remmeber)"
   ]
  },
  {
   "cell_type": "markdown",
   "id": "dc2b0085-99be-4187-a9f8-ead81dd0030e",
   "metadata": {},
   "source": [
    "### Supervised learning"
   ]
  },
  {
   "cell_type": "code",
   "execution_count": 22,
   "id": "46ed4f82-c729-4aa2-a10f-762dcc8576f6",
   "metadata": {},
   "outputs": [],
   "source": [
    "from sklearn.linear_model import SGDClassifier"
   ]
  },
  {
   "cell_type": "code",
   "execution_count": 23,
   "id": "e46237e7-8012-4655-a0ee-bdb84481f545",
   "metadata": {},
   "outputs": [
    {
     "data": {
      "text/html": [
       "<style>#sk-container-id-1 {color: black;background-color: white;}#sk-container-id-1 pre{padding: 0;}#sk-container-id-1 div.sk-toggleable {background-color: white;}#sk-container-id-1 label.sk-toggleable__label {cursor: pointer;display: block;width: 100%;margin-bottom: 0;padding: 0.3em;box-sizing: border-box;text-align: center;}#sk-container-id-1 label.sk-toggleable__label-arrow:before {content: \"▸\";float: left;margin-right: 0.25em;color: #696969;}#sk-container-id-1 label.sk-toggleable__label-arrow:hover:before {color: black;}#sk-container-id-1 div.sk-estimator:hover label.sk-toggleable__label-arrow:before {color: black;}#sk-container-id-1 div.sk-toggleable__content {max-height: 0;max-width: 0;overflow: hidden;text-align: left;background-color: #f0f8ff;}#sk-container-id-1 div.sk-toggleable__content pre {margin: 0.2em;color: black;border-radius: 0.25em;background-color: #f0f8ff;}#sk-container-id-1 input.sk-toggleable__control:checked~div.sk-toggleable__content {max-height: 200px;max-width: 100%;overflow: auto;}#sk-container-id-1 input.sk-toggleable__control:checked~label.sk-toggleable__label-arrow:before {content: \"▾\";}#sk-container-id-1 div.sk-estimator input.sk-toggleable__control:checked~label.sk-toggleable__label {background-color: #d4ebff;}#sk-container-id-1 div.sk-label input.sk-toggleable__control:checked~label.sk-toggleable__label {background-color: #d4ebff;}#sk-container-id-1 input.sk-hidden--visually {border: 0;clip: rect(1px 1px 1px 1px);clip: rect(1px, 1px, 1px, 1px);height: 1px;margin: -1px;overflow: hidden;padding: 0;position: absolute;width: 1px;}#sk-container-id-1 div.sk-estimator {font-family: monospace;background-color: #f0f8ff;border: 1px dotted black;border-radius: 0.25em;box-sizing: border-box;margin-bottom: 0.5em;}#sk-container-id-1 div.sk-estimator:hover {background-color: #d4ebff;}#sk-container-id-1 div.sk-parallel-item::after {content: \"\";width: 100%;border-bottom: 1px solid gray;flex-grow: 1;}#sk-container-id-1 div.sk-label:hover label.sk-toggleable__label {background-color: #d4ebff;}#sk-container-id-1 div.sk-serial::before {content: \"\";position: absolute;border-left: 1px solid gray;box-sizing: border-box;top: 0;bottom: 0;left: 50%;z-index: 0;}#sk-container-id-1 div.sk-serial {display: flex;flex-direction: column;align-items: center;background-color: white;padding-right: 0.2em;padding-left: 0.2em;position: relative;}#sk-container-id-1 div.sk-item {position: relative;z-index: 1;}#sk-container-id-1 div.sk-parallel {display: flex;align-items: stretch;justify-content: center;background-color: white;position: relative;}#sk-container-id-1 div.sk-item::before, #sk-container-id-1 div.sk-parallel-item::before {content: \"\";position: absolute;border-left: 1px solid gray;box-sizing: border-box;top: 0;bottom: 0;left: 50%;z-index: -1;}#sk-container-id-1 div.sk-parallel-item {display: flex;flex-direction: column;z-index: 1;position: relative;background-color: white;}#sk-container-id-1 div.sk-parallel-item:first-child::after {align-self: flex-end;width: 50%;}#sk-container-id-1 div.sk-parallel-item:last-child::after {align-self: flex-start;width: 50%;}#sk-container-id-1 div.sk-parallel-item:only-child::after {width: 0;}#sk-container-id-1 div.sk-dashed-wrapped {border: 1px dashed gray;margin: 0 0.4em 0.5em 0.4em;box-sizing: border-box;padding-bottom: 0.4em;background-color: white;}#sk-container-id-1 div.sk-label label {font-family: monospace;font-weight: bold;display: inline-block;line-height: 1.2em;}#sk-container-id-1 div.sk-label-container {text-align: center;}#sk-container-id-1 div.sk-container {/* jupyter's `normalize.less` sets `[hidden] { display: none; }` but bootstrap.min.css set `[hidden] { display: none !important; }` so we also need the `!important` here to be able to override the default hidden behavior on the sphinx rendered scikit-learn.org. See: https://github.com/scikit-learn/scikit-learn/issues/21755 */display: inline-block !important;position: relative;}#sk-container-id-1 div.sk-text-repr-fallback {display: none;}</style><div id=\"sk-container-id-1\" class=\"sk-top-container\"><div class=\"sk-text-repr-fallback\"><pre>SGDClassifier()</pre><b>In a Jupyter environment, please rerun this cell to show the HTML representation or trust the notebook. <br />On GitHub, the HTML representation is unable to render, please try loading this page with nbviewer.org.</b></div><div class=\"sk-container\" hidden><div class=\"sk-item\"><div class=\"sk-estimator sk-toggleable\"><input class=\"sk-toggleable__control sk-hidden--visually\" id=\"sk-estimator-id-1\" type=\"checkbox\" checked><label for=\"sk-estimator-id-1\" class=\"sk-toggleable__label sk-toggleable__label-arrow\">SGDClassifier</label><div class=\"sk-toggleable__content\"><pre>SGDClassifier()</pre></div></div></div></div></div>"
      ],
      "text/plain": [
       "SGDClassifier()"
      ]
     },
     "execution_count": 23,
     "metadata": {},
     "output_type": "execute_result"
    }
   ],
   "source": [
    "sgd = SGDClassifier()\n",
    "\n",
    "sgd.fit(auto_df_train, labels_train)"
   ]
  },
  {
   "cell_type": "code",
   "execution_count": 29,
   "id": "385c998b-ed43-4264-9e86-c932daef6134",
   "metadata": {},
   "outputs": [],
   "source": [
    "def plot_confusion_matrix(predictions, input_data, input_labels, classes):\n",
    "    \n",
    "    # Compute the confusion matrix by comparing the test labels (ds.test_labels) with the test predictions\n",
    "    cm = metrics.confusion_matrix(input_labels, predictions, labels=[0, 1, 2, 3])\n",
    "    cm = cm.astype('float')\n",
    "\n",
    "    # Normalize the confusion matrix results. \n",
    "    cm_norm = cm / cm.sum(axis=1)[:, np.newaxis]\n",
    "    \n",
    "    # Plotting\n",
    "    fig = plt.figure()\n",
    "    ax = fig.add_subplot(111)\n",
    "\n",
    "    ax.matshow(cm_norm)\n",
    "\n",
    "    plt.title('Confusion matrix', y=1.08)\n",
    "    \n",
    "    ax.set_xticks([0, 1, 2, 3])\n",
    "    ax.set_xticklabels(classes)\n",
    "    \n",
    "    ax.set_yticks([0, 1, 2, 3])\n",
    "    ax.set_yticklabels(classes)\n",
    "\n",
    "    plt.xlabel('Predicted')\n",
    "    plt.ylabel('True')\n",
    "\n",
    "    fmt = '.2f'\n",
    "    thresh = cm_norm.max() / 2.\n",
    "    for i in range(cm_norm.shape[0]):\n",
    "        for j in range(cm_norm.shape[1]):\n",
    "            ax.text(j, i, format(cm_norm[i, j], fmt), \n",
    "                    ha=\"center\", va=\"center\", \n",
    "                    color=\"white\" if cm_norm[i, j] < thresh else \"black\")\n",
    "    plt.show()"
   ]
  },
  {
   "cell_type": "code",
   "execution_count": 30,
   "id": "9610477a-75a6-4fd4-872a-16559b5c0023",
   "metadata": {},
   "outputs": [
    {
     "data": {
      "image/png": "[encoded data removed]",
      "text/plain": [
       "<Figure size 640x480 with 1 Axes>"
      ]
     },
     "metadata": {},
     "output_type": "display_data"
    }
   ],
   "source": [
    "y_predict = sgd.predict(auto_df_test)\n",
    "\n",
    "plot_confusion_matrix(y_predict, auto_df_test, labels_test, classes)\n"
   ]
  },
  {
   "cell_type": "code",
   "execution_count": null,
   "id": "9c8660b5-8d39-4829-b610-f66a0a98b509",
   "metadata": {},
   "outputs": [],
   "source": [
    "print()"
   ]
  },
  {
   "cell_type": "markdown",
   "id": "e49fe01c-bf88-4d7b-8553-ac058a1f8013",
   "metadata": {},
   "source": [
    "Question"
   ]
  },
  {
   "cell_type": "code",
   "execution_count": null,
   "id": "dd8d85bb-6781-4711-bf84-366b400e8732",
   "metadata": {},
   "outputs": [],
   "source": []
  }
 ],
 "metadata": {
  "kernelspec": {
   "display_name": "gal_ker",
   "language": "python",
   "name": "gal_ker"
  },
  "language_info": {
   "codemirror_mode": {
    "name": "ipython",
    "version": 3
   },
   "file_extension": ".py",
   "mimetype": "text/x-python",
   "name": "python",
   "nbconvert_exporter": "python",
   "pygments_lexer": "ipython3",
   "version": "3.8.10"
  }
 },
 "nbformat": 4,
 "nbformat_minor": 5
}
